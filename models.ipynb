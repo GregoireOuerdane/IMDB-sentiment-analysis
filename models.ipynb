{
  "nbformat": 4,
  "nbformat_minor": 0,
  "metadata": {
    "colab": {
      "provenance": [],
      "gpuType": "T4",
      "collapsed_sections": [
        "vD3sihqcAzB0"
      ]
    },
    "kernelspec": {
      "name": "python3",
      "display_name": "Python 3"
    },
    "language_info": {
      "name": "python"
    },
    "accelerator": "GPU"
  },
  "cells": [
    {
      "cell_type": "code",
      "source": [
        "!pip install torchtext==0.15.2 portalocker==2.8.2 --quiet"
      ],
      "metadata": {
        "colab": {
          "base_uri": "https://localhost:8080/"
        },
        "id": "Azb1VN5jvsdY",
        "outputId": "3621af42-d304-40ce-d422-fc5c1c7cc1c0"
      },
      "execution_count": 1,
      "outputs": [
        {
          "output_type": "stream",
          "name": "stdout",
          "text": [
            "\u001b[2K   \u001b[90m━━━━━━━━━━━━━━━━━━━━━━━━━━━━━━━━━━━━━━━━\u001b[0m \u001b[32m2.0/2.0 MB\u001b[0m \u001b[31m34.4 MB/s\u001b[0m eta \u001b[36m0:00:00\u001b[0m\n",
            "\u001b[2K   \u001b[90m━━━━━━━━━━━━━━━━━━━━━━━━━━━━━━━━━━━━━━━━\u001b[0m \u001b[32m619.9/619.9 MB\u001b[0m \u001b[31m2.3 MB/s\u001b[0m eta \u001b[36m0:00:00\u001b[0m\n",
            "\u001b[2K   \u001b[90m━━━━━━━━━━━━━━━━━━━━━━━━━━━━━━━━━━━━━━━━\u001b[0m \u001b[32m4.6/4.6 MB\u001b[0m \u001b[31m93.4 MB/s\u001b[0m eta \u001b[36m0:00:00\u001b[0m\n",
            "\u001b[2K   \u001b[90m━━━━━━━━━━━━━━━━━━━━━━━━━━━━━━━━━━━━━━━━\u001b[0m \u001b[32m317.1/317.1 MB\u001b[0m \u001b[31m4.1 MB/s\u001b[0m eta \u001b[36m0:00:00\u001b[0m\n",
            "\u001b[2K   \u001b[90m━━━━━━━━━━━━━━━━━━━━━━━━━━━━━━━━━━━━━━━━\u001b[0m \u001b[32m11.8/11.8 MB\u001b[0m \u001b[31m73.4 MB/s\u001b[0m eta \u001b[36m0:00:00\u001b[0m\n",
            "\u001b[2K   \u001b[90m━━━━━━━━━━━━━━━━━━━━━━━━━━━━━━━━━━━━━━━━\u001b[0m \u001b[32m21.0/21.0 MB\u001b[0m \u001b[31m43.2 MB/s\u001b[0m eta \u001b[36m0:00:00\u001b[0m\n",
            "\u001b[2K   \u001b[90m━━━━━━━━━━━━━━━━━━━━━━━━━━━━━━━━━━━━━━━━\u001b[0m \u001b[32m849.3/849.3 kB\u001b[0m \u001b[31m51.8 MB/s\u001b[0m eta \u001b[36m0:00:00\u001b[0m\n",
            "\u001b[2K   \u001b[90m━━━━━━━━━━━━━━━━━━━━━━━━━━━━━━━━━━━━━━━━\u001b[0m \u001b[32m557.1/557.1 MB\u001b[0m \u001b[31m3.3 MB/s\u001b[0m eta \u001b[36m0:00:00\u001b[0m\n",
            "\u001b[2K   \u001b[90m━━━━━━━━━━━━━━━━━━━━━━━━━━━━━━━━━━━━━━━━\u001b[0m \u001b[32m168.4/168.4 MB\u001b[0m \u001b[31m6.3 MB/s\u001b[0m eta \u001b[36m0:00:00\u001b[0m\n",
            "\u001b[2K   \u001b[90m━━━━━━━━━━━━━━━━━━━━━━━━━━━━━━━━━━━━━━━━\u001b[0m \u001b[32m54.6/54.6 MB\u001b[0m \u001b[31m13.4 MB/s\u001b[0m eta \u001b[36m0:00:00\u001b[0m\n",
            "\u001b[2K   \u001b[90m━━━━━━━━━━━━━━━━━━━━━━━━━━━━━━━━━━━━━━━━\u001b[0m \u001b[32m102.6/102.6 MB\u001b[0m \u001b[31m8.6 MB/s\u001b[0m eta \u001b[36m0:00:00\u001b[0m\n",
            "\u001b[2K   \u001b[90m━━━━━━━━━━━━━━━━━━━━━━━━━━━━━━━━━━━━━━━━\u001b[0m \u001b[32m173.2/173.2 MB\u001b[0m \u001b[31m6.4 MB/s\u001b[0m eta \u001b[36m0:00:00\u001b[0m\n",
            "\u001b[2K   \u001b[90m━━━━━━━━━━━━━━━━━━━━━━━━━━━━━━━━━━━━━━━━\u001b[0m \u001b[32m177.1/177.1 MB\u001b[0m \u001b[31m6.5 MB/s\u001b[0m eta \u001b[36m0:00:00\u001b[0m\n",
            "\u001b[2K   \u001b[90m━━━━━━━━━━━━━━━━━━━━━━━━━━━━━━━━━━━━━━━━\u001b[0m \u001b[32m98.6/98.6 kB\u001b[0m \u001b[31m8.7 MB/s\u001b[0m eta \u001b[36m0:00:00\u001b[0m\n",
            "\u001b[2K   \u001b[90m━━━━━━━━━━━━━━━━━━━━━━━━━━━━━━━━━━━━━━━━\u001b[0m \u001b[32m63.3/63.3 MB\u001b[0m \u001b[31m12.2 MB/s\u001b[0m eta \u001b[36m0:00:00\u001b[0m\n",
            "\u001b[2K   \u001b[90m━━━━━━━━━━━━━━━━━━━━━━━━━━━━━━━━━━━━━━━━\u001b[0m \u001b[32m96.4/96.4 kB\u001b[0m \u001b[31m9.4 MB/s\u001b[0m eta \u001b[36m0:00:00\u001b[0m\n",
            "\u001b[?25h\u001b[31mERROR: pip's dependency resolver does not currently take into account all the packages that are installed. This behaviour is the source of the following dependency conflicts.\n",
            "torchtune 0.6.1 requires torchdata==0.11.0, but you have torchdata 0.6.1 which is incompatible.\n",
            "torchaudio 2.6.0+cu124 requires torch==2.6.0, but you have torch 2.0.1 which is incompatible.\n",
            "torchvision 0.21.0+cu124 requires torch==2.6.0, but you have torch 2.0.1 which is incompatible.\u001b[0m\u001b[31m\n",
            "\u001b[0m"
          ]
        }
      ]
    },
    {
      "cell_type": "markdown",
      "source": [
        "# LSTM model"
      ],
      "metadata": {
        "id": "vD3sihqcAzB0"
      }
    },
    {
      "cell_type": "code",
      "source": [
        "import torch\n",
        "from torch import nn, optim\n",
        "from torch.utils.data import DataLoader, Dataset, Subset, random_split\n",
        "from torch.nn.utils.rnn import pad_sequence\n",
        "from torchtext.datasets import IMDB\n",
        "from torchtext.data.utils import get_tokenizer\n",
        "from torchtext.vocab import build_vocab_from_iterator\n",
        "from collections import Counter"
      ],
      "metadata": {
        "id": "D8ryzk3S5bEz"
      },
      "execution_count": 2,
      "outputs": []
    },
    {
      "cell_type": "code",
      "source": [
        "# device\n",
        "device = torch.device('cuda' if torch.cuda.is_available() else 'cpu')\n",
        "print(\"Using device:\", device)"
      ],
      "metadata": {
        "colab": {
          "base_uri": "https://localhost:8080/"
        },
        "id": "hlwM65Px5d1o",
        "outputId": "3ef5afff-4984-4a86-b374-51d7638a3253"
      },
      "execution_count": 3,
      "outputs": [
        {
          "output_type": "stream",
          "name": "stdout",
          "text": [
            "Using device: cuda\n"
          ]
        },
        {
          "output_type": "stream",
          "name": "stderr",
          "text": [
            "\n",
            "A module that was compiled using NumPy 1.x cannot be run in\n",
            "NumPy 2.0.2 as it may crash. To support both 1.x and 2.x\n",
            "versions of NumPy, modules must be compiled with NumPy 2.0.\n",
            "Some module may need to rebuild instead e.g. with 'pybind11>=2.12'.\n",
            "\n",
            "If you are a user of the module, the easiest solution will be to\n",
            "downgrade to 'numpy<2' or try to upgrade the affected module.\n",
            "We expect that some modules will need time to support NumPy 2.\n",
            "\n",
            "Traceback (most recent call last):  File \"<frozen runpy>\", line 198, in _run_module_as_main\n",
            "  File \"<frozen runpy>\", line 88, in _run_code\n",
            "  File \"/usr/local/lib/python3.11/dist-packages/colab_kernel_launcher.py\", line 37, in <module>\n",
            "    ColabKernelApp.launch_instance()\n",
            "  File \"/usr/local/lib/python3.11/dist-packages/traitlets/config/application.py\", line 992, in launch_instance\n",
            "    app.start()\n",
            "  File \"/usr/local/lib/python3.11/dist-packages/ipykernel/kernelapp.py\", line 712, in start\n",
            "    self.io_loop.start()\n",
            "  File \"/usr/local/lib/python3.11/dist-packages/tornado/platform/asyncio.py\", line 205, in start\n",
            "    self.asyncio_loop.run_forever()\n",
            "  File \"/usr/lib/python3.11/asyncio/base_events.py\", line 608, in run_forever\n",
            "    self._run_once()\n",
            "  File \"/usr/lib/python3.11/asyncio/base_events.py\", line 1936, in _run_once\n",
            "    handle._run()\n",
            "  File \"/usr/lib/python3.11/asyncio/events.py\", line 84, in _run\n",
            "    self._context.run(self._callback, *self._args)\n",
            "  File \"/usr/local/lib/python3.11/dist-packages/ipykernel/kernelbase.py\", line 510, in dispatch_queue\n",
            "    await self.process_one()\n",
            "  File \"/usr/local/lib/python3.11/dist-packages/ipykernel/kernelbase.py\", line 499, in process_one\n",
            "    await dispatch(*args)\n",
            "  File \"/usr/local/lib/python3.11/dist-packages/ipykernel/kernelbase.py\", line 406, in dispatch_shell\n",
            "    await result\n",
            "  File \"/usr/local/lib/python3.11/dist-packages/ipykernel/kernelbase.py\", line 730, in execute_request\n",
            "    reply_content = await reply_content\n",
            "  File \"/usr/local/lib/python3.11/dist-packages/ipykernel/ipkernel.py\", line 383, in do_execute\n",
            "    res = shell.run_cell(\n",
            "  File \"/usr/local/lib/python3.11/dist-packages/ipykernel/zmqshell.py\", line 528, in run_cell\n",
            "    return super().run_cell(*args, **kwargs)\n",
            "  File \"/usr/local/lib/python3.11/dist-packages/IPython/core/interactiveshell.py\", line 2975, in run_cell\n",
            "    result = self._run_cell(\n",
            "  File \"/usr/local/lib/python3.11/dist-packages/IPython/core/interactiveshell.py\", line 3030, in _run_cell\n",
            "    return runner(coro)\n",
            "  File \"/usr/local/lib/python3.11/dist-packages/IPython/core/async_helpers.py\", line 78, in _pseudo_sync_runner\n",
            "    coro.send(None)\n",
            "  File \"/usr/local/lib/python3.11/dist-packages/IPython/core/interactiveshell.py\", line 3257, in run_cell_async\n",
            "    has_raised = await self.run_ast_nodes(code_ast.body, cell_name,\n",
            "  File \"/usr/local/lib/python3.11/dist-packages/IPython/core/interactiveshell.py\", line 3473, in run_ast_nodes\n",
            "    if (await self.run_code(code, result,  async_=asy)):\n",
            "  File \"/usr/local/lib/python3.11/dist-packages/IPython/core/interactiveshell.py\", line 3553, in run_code\n",
            "    exec(code_obj, self.user_global_ns, self.user_ns)\n",
            "  File \"<ipython-input-3-dddb4e5758f8>\", line 2, in <cell line: 0>\n",
            "    device = torch.device('cuda' if torch.cuda.is_available() else 'cpu')\n",
            "<ipython-input-3-dddb4e5758f8>:2: UserWarning: Failed to initialize NumPy: _ARRAY_API not found (Triggered internally at ../torch/csrc/utils/tensor_numpy.cpp:84.)\n",
            "  device = torch.device('cuda' if torch.cuda.is_available() else 'cpu')\n"
          ]
        }
      ]
    },
    {
      "cell_type": "code",
      "source": [
        "# raw train and test datasets (returns iterator of (label:str, text:str))\n",
        "train_iter = IMDB(split='train')\n",
        "test_iter = IMDB(split='test')\n",
        "\n",
        "# convert to list\n",
        "full_train_raw = list(train_iter)\n",
        "full_test_raw = list(test_iter)\n",
        "\n",
        "# split train into train/val (80/20)\n",
        "train_size = int(0.8 * len(full_train_raw))\n",
        "val_size = len(full_train_raw) - train_size\n",
        "train_raw, val_raw = random_split(full_train_raw, [train_size, val_size], generator=torch.Generator().manual_seed(42))"
      ],
      "metadata": {
        "id": "GZQsDSES5g6d"
      },
      "execution_count": 4,
      "outputs": []
    },
    {
      "cell_type": "code",
      "source": [
        "# tokenizer and vocab setup\n",
        "tokenizer = get_tokenizer('basic_english')\n",
        "\n",
        "def yield_tokens(data_iter):\n",
        "    for label, text in data_iter:\n",
        "        yield tokenizer(text)\n",
        "\n",
        "# build vocab on training split\n",
        "vocab = build_vocab_from_iterator(yield_tokens(train_raw), specials=[\"<unk>\"])\n",
        "vocab.set_default_index(vocab[\"<unk>\"])\n",
        "\n",
        "print(f\"Vocab size: {len(vocab)}\")"
      ],
      "metadata": {
        "colab": {
          "base_uri": "https://localhost:8080/"
        },
        "id": "eL_CYPrL5jpp",
        "outputId": "d1211a80-469a-437c-c161-fadf232d11f5"
      },
      "execution_count": 5,
      "outputs": [
        {
          "output_type": "stream",
          "name": "stdout",
          "text": [
            "Vocab size: 89803\n"
          ]
        }
      ]
    },
    {
      "cell_type": "code",
      "source": [
        "# dataset class\n",
        "class IMDBDataset(Dataset):\n",
        "    def __init__(self, data):\n",
        "        self.data = data\n",
        "        self.label_map = {'neg': 0, 'pos': 1, 1: 0, 2: 1}\n",
        "\n",
        "    def __len__(self):\n",
        "        return len(self.data)\n",
        "\n",
        "    def __getitem__(self, idx):\n",
        "        label_raw, text = self.data[idx]\n",
        "        label = self.label_map[label_raw]\n",
        "        tokens = tokenizer(text)\n",
        "        token_ids = torch.tensor(vocab(tokens), dtype=torch.long)\n",
        "        return token_ids, label\n",
        "\n",
        "train_dataset = IMDBDataset(train_raw)\n",
        "val_dataset = IMDBDataset(val_raw)\n",
        "test_dataset = IMDBDataset(full_test_raw)"
      ],
      "metadata": {
        "id": "8dWPFuM05nmU"
      },
      "execution_count": 6,
      "outputs": []
    },
    {
      "cell_type": "code",
      "source": [
        "# collate batches and pad sequences\n",
        "def collate_batch(batch):\n",
        "    token_ids_list, labels = zip(*batch)\n",
        "    token_ids_padded = pad_sequence(token_ids_list, batch_first=True, padding_value=vocab[\"<unk>\"])\n",
        "    labels_tensor = torch.tensor(labels, dtype=torch.long)\n",
        "    return token_ids_padded.to(device), labels_tensor.to(device)\n",
        "\n",
        "# dataloaders\n",
        "BATCH_SIZE = 64\n",
        "train_loader = DataLoader(train_dataset, batch_size=BATCH_SIZE, shuffle=True, collate_fn=collate_batch)\n",
        "val_loader = DataLoader(val_dataset, batch_size=BATCH_SIZE, shuffle=False, collate_fn=collate_batch)\n",
        "test_loader = DataLoader(test_dataset, batch_size=BATCH_SIZE, shuffle=False, collate_fn=collate_batch)\n",
        "\n",
        "print(f\"Train samples: {len(train_dataset)}\")\n",
        "print(f\"Validation samples: {len(val_dataset)}\")\n",
        "print(f\"Test samples: {len(test_dataset)}\")"
      ],
      "metadata": {
        "colab": {
          "base_uri": "https://localhost:8080/"
        },
        "id": "PdSkLRky5qyJ",
        "outputId": "e03c0b54-65b5-4ed1-d278-7522fa209837"
      },
      "execution_count": 7,
      "outputs": [
        {
          "output_type": "stream",
          "name": "stdout",
          "text": [
            "Train samples: 20000\n",
            "Validation samples: 5000\n",
            "Test samples: 25000\n"
          ]
        }
      ]
    },
    {
      "cell_type": "code",
      "source": [
        "# text classification model with embedding and mean pooling\n",
        "class TextClassifier(nn.Module):\n",
        "    def __init__(self, vocab_size, embed_dim, num_classes):\n",
        "        super(TextClassifier, self).__init__()\n",
        "        self.embedding = nn.Embedding(vocab_size, embed_dim)\n",
        "        self.fc = nn.Linear(embed_dim, num_classes)\n",
        "\n",
        "    def forward(self, x):\n",
        "        embedded = self.embedding(x)\n",
        "        pooled = embedded.mean(dim=1)\n",
        "        return self.fc(pooled)\n",
        "\n",
        "lstm_model = TextClassifier(len(vocab), embed_dim=100, num_classes=2).to(device)"
      ],
      "metadata": {
        "id": "IGyaZWld5vHQ"
      },
      "execution_count": 8,
      "outputs": []
    },
    {
      "cell_type": "code",
      "source": [
        "criterion = nn.CrossEntropyLoss()\n",
        "optimizer = optim.Adam(lstm_model.parameters(), lr=0.001)\n",
        "\n",
        "# metrics\n",
        "def accuracy(preds, labels):\n",
        "    _, pred_classes = torch.max(preds, dim=1)\n",
        "    return (pred_classes == labels).float().mean().item()\n",
        "\n",
        "# training and validation\n",
        "EPOCHS = 35\n",
        "\n",
        "history_lstm = {\n",
        "    'train_loss': [],\n",
        "    'val_loss': [],\n",
        "    'train_acc': [],\n",
        "    'val_acc': []\n",
        "}\n",
        "\n",
        "for epoch in range(1, EPOCHS + 1):\n",
        "    lstm_model.train()\n",
        "    train_loss = 0\n",
        "    train_acc = 0\n",
        "    for tokens, labels in train_loader:\n",
        "        optimizer.zero_grad()\n",
        "        outputs = lstm_model(tokens)\n",
        "        loss = criterion(outputs, labels)\n",
        "        loss.backward()\n",
        "        optimizer.step()\n",
        "\n",
        "        train_loss += loss.item() * tokens.size(0)\n",
        "        train_acc += accuracy(outputs, labels) * tokens.size(0)\n",
        "\n",
        "    train_loss /= len(train_dataset)\n",
        "    train_acc /= len(train_dataset)\n",
        "\n",
        "    lstm_model.eval()\n",
        "    val_loss = 0\n",
        "    val_acc = 0\n",
        "    with torch.no_grad():\n",
        "        for tokens, labels in val_loader:\n",
        "            outputs = lstm_model(tokens)\n",
        "            loss = criterion(outputs, labels)\n",
        "            val_loss += loss.item() * tokens.size(0)\n",
        "            val_acc += accuracy(outputs, labels) * tokens.size(0)\n",
        "\n",
        "    val_loss /= len(val_dataset)\n",
        "    val_acc /= len(val_dataset)\n",
        "\n",
        "    print(f\"Epoch {epoch}: Train Loss = {train_loss:.4f}, Acc = {train_acc:.4f}; \"\n",
        "          f\"Val Loss = {val_loss:.4f}, Acc = {val_acc:.4f}\")\n",
        "\n",
        "    history_lstm['train_loss'].append(train_loss)\n",
        "    history_lstm['val_loss'].append(val_loss)\n",
        "    history_lstm['train_acc'].append(train_acc)\n",
        "    history_lstm['val_acc'].append(val_acc)\n",
        "\n",
        "# test\n",
        "lstm_model.eval()\n",
        "test_loss_lstm = 0\n",
        "test_acc_lstm = 0\n",
        "with torch.no_grad():\n",
        "    for tokens, labels in test_loader:\n",
        "        outputs = lstm_model(tokens)\n",
        "        loss = criterion(outputs, labels)\n",
        "        test_loss_lstm += loss.item() * tokens.size(0)\n",
        "        test_acc_lstm += accuracy(outputs, labels) * tokens.size(0)\n",
        "\n",
        "test_loss_lstm /= len(test_dataset)\n",
        "test_acc_lstm /= len(test_dataset)\n",
        "\n",
        "print(f\"Test Loss = {test_loss_lstm:.4f}, Test Acc = {test_acc_lstm:.4f}\")\n"
      ],
      "metadata": {
        "colab": {
          "base_uri": "https://localhost:8080/"
        },
        "id": "hp0atBPW3WEG",
        "outputId": "bf95827b-340d-4742-c252-7c9b24e468ef"
      },
      "execution_count": 9,
      "outputs": [
        {
          "output_type": "stream",
          "name": "stdout",
          "text": [
            "Epoch 1: Train Loss = 0.6892, Acc = 0.5419; Val Loss = 0.6781, Acc = 0.6310\n",
            "Epoch 2: Train Loss = 0.6608, Acc = 0.6576; Val Loss = 0.6401, Acc = 0.6788\n",
            "Epoch 3: Train Loss = 0.6071, Acc = 0.7429; Val Loss = 0.5839, Acc = 0.7462\n",
            "Epoch 4: Train Loss = 0.5442, Acc = 0.7916; Val Loss = 0.5265, Acc = 0.7966\n",
            "Epoch 5: Train Loss = 0.4859, Acc = 0.8299; Val Loss = 0.4769, Acc = 0.8214\n",
            "Epoch 6: Train Loss = 0.4355, Acc = 0.8536; Val Loss = 0.4345, Acc = 0.8474\n",
            "Epoch 7: Train Loss = 0.3915, Acc = 0.8752; Val Loss = 0.4026, Acc = 0.8574\n",
            "Epoch 8: Train Loss = 0.3564, Acc = 0.8873; Val Loss = 0.3750, Acc = 0.8700\n",
            "Epoch 9: Train Loss = 0.3265, Acc = 0.8995; Val Loss = 0.3542, Acc = 0.8720\n",
            "Epoch 10: Train Loss = 0.3021, Acc = 0.9079; Val Loss = 0.3383, Acc = 0.8790\n",
            "Epoch 11: Train Loss = 0.2808, Acc = 0.9141; Val Loss = 0.3256, Acc = 0.8786\n",
            "Epoch 12: Train Loss = 0.2638, Acc = 0.9190; Val Loss = 0.3143, Acc = 0.8828\n",
            "Epoch 13: Train Loss = 0.2470, Acc = 0.9244; Val Loss = 0.3061, Acc = 0.8870\n",
            "Epoch 14: Train Loss = 0.2322, Acc = 0.9296; Val Loss = 0.3024, Acc = 0.8836\n",
            "Epoch 15: Train Loss = 0.2208, Acc = 0.9350; Val Loss = 0.2923, Acc = 0.8894\n",
            "Epoch 16: Train Loss = 0.2100, Acc = 0.9379; Val Loss = 0.2888, Acc = 0.8882\n",
            "Epoch 17: Train Loss = 0.1977, Acc = 0.9428; Val Loss = 0.2843, Acc = 0.8894\n",
            "Epoch 18: Train Loss = 0.1877, Acc = 0.9465; Val Loss = 0.2789, Acc = 0.8926\n",
            "Epoch 19: Train Loss = 0.1781, Acc = 0.9493; Val Loss = 0.2757, Acc = 0.8946\n",
            "Epoch 20: Train Loss = 0.1706, Acc = 0.9506; Val Loss = 0.2732, Acc = 0.8954\n",
            "Epoch 21: Train Loss = 0.1624, Acc = 0.9540; Val Loss = 0.2703, Acc = 0.8968\n",
            "Epoch 22: Train Loss = 0.1547, Acc = 0.9566; Val Loss = 0.2686, Acc = 0.8970\n",
            "Epoch 23: Train Loss = 0.1472, Acc = 0.9594; Val Loss = 0.2679, Acc = 0.8954\n",
            "Epoch 24: Train Loss = 0.1406, Acc = 0.9625; Val Loss = 0.2660, Acc = 0.8968\n",
            "Epoch 25: Train Loss = 0.1344, Acc = 0.9641; Val Loss = 0.2645, Acc = 0.8984\n",
            "Epoch 26: Train Loss = 0.1284, Acc = 0.9653; Val Loss = 0.2637, Acc = 0.8972\n",
            "Epoch 27: Train Loss = 0.1217, Acc = 0.9671; Val Loss = 0.2638, Acc = 0.8988\n",
            "Epoch 28: Train Loss = 0.1186, Acc = 0.9684; Val Loss = 0.2642, Acc = 0.8978\n",
            "Epoch 29: Train Loss = 0.1134, Acc = 0.9705; Val Loss = 0.2618, Acc = 0.8982\n",
            "Epoch 30: Train Loss = 0.1078, Acc = 0.9722; Val Loss = 0.2618, Acc = 0.9006\n",
            "Epoch 31: Train Loss = 0.1018, Acc = 0.9748; Val Loss = 0.2625, Acc = 0.8998\n",
            "Epoch 32: Train Loss = 0.0986, Acc = 0.9752; Val Loss = 0.2642, Acc = 0.8994\n",
            "Epoch 33: Train Loss = 0.0941, Acc = 0.9774; Val Loss = 0.2633, Acc = 0.9016\n",
            "Epoch 34: Train Loss = 0.0903, Acc = 0.9790; Val Loss = 0.2665, Acc = 0.9004\n",
            "Epoch 35: Train Loss = 0.0851, Acc = 0.9796; Val Loss = 0.2634, Acc = 0.8994\n",
            "Test Loss = 0.2966, Test Acc = 0.8901\n"
          ]
        }
      ]
    },
    {
      "cell_type": "markdown",
      "source": [
        "# Transformer encoder model"
      ],
      "metadata": {
        "id": "6E6UW3IHA2aT"
      }
    },
    {
      "cell_type": "code",
      "source": [
        "import re\n",
        "import time\n",
        "\n",
        "device = torch.device(\"cuda\" if torch.cuda.is_available() else \"cpu\")\n",
        "print(\"Using device:\", device)"
      ],
      "metadata": {
        "colab": {
          "base_uri": "https://localhost:8080/"
        },
        "id": "gheBg6XgBPAF",
        "outputId": "2ccc5d8a-186b-4607-f00f-b4480cfdf6cf"
      },
      "execution_count": 10,
      "outputs": [
        {
          "output_type": "stream",
          "name": "stdout",
          "text": [
            "Using device: cuda\n"
          ]
        }
      ]
    },
    {
      "cell_type": "code",
      "source": [
        "# preprocessing\n",
        "tokenizer = get_tokenizer(\"basic_english\")\n",
        "\n",
        "def clean_text(text):\n",
        "    return re.sub(r\"<[^>]+>\", \"\", text)\n",
        "\n",
        "def yield_tokens(data_iter):\n",
        "    for label, text in data_iter:\n",
        "        yield tokenizer(clean_text(text))\n",
        "\n",
        "train_iter = IMDB(split='train')\n",
        "vocab = build_vocab_from_iterator(yield_tokens(train_iter), specials=[\"<unk>\", \"<pad>\"])\n",
        "vocab.set_default_index(vocab[\"<unk>\"])\n",
        "pad_idx = vocab[\"<pad>\"]"
      ],
      "metadata": {
        "id": "Th29551xK4r5"
      },
      "execution_count": 11,
      "outputs": []
    },
    {
      "cell_type": "code",
      "source": [
        "# dataset\n",
        "class IMDBDataset(Dataset):\n",
        "    def __init__(self, data):\n",
        "        self.data = data\n",
        "        self.label_map = {'neg': 0, 'pos': 1, 1: 0, 2: 1}\n",
        "\n",
        "    def __len__(self):\n",
        "        return len(self.data)\n",
        "\n",
        "    def __getitem__(self, idx):\n",
        "        label_raw, text = self.data[idx]\n",
        "        label = self.label_map[label_raw]\n",
        "        tokens = tokenizer(clean_text(text))\n",
        "        token_ids = torch.tensor(vocab(tokens), dtype=torch.long)\n",
        "        return token_ids, label"
      ],
      "metadata": {
        "id": "4x7a1c-uK-Xc"
      },
      "execution_count": 12,
      "outputs": []
    },
    {
      "cell_type": "code",
      "source": [
        "# data preparation\n",
        "full_train_raw = list(IMDB(split='train'))\n",
        "full_test_raw = list(IMDB(split='test'))\n",
        "\n",
        "train_size = int(0.8 * len(full_train_raw))\n",
        "val_size = len(full_train_raw) - train_size\n",
        "train_raw, val_raw = random_split(full_train_raw, [train_size, val_size])\n",
        "\n",
        "train_dataset = IMDBDataset(train_raw)\n",
        "val_dataset = IMDBDataset(val_raw)\n",
        "test_dataset = IMDBDataset(full_test_raw)\n",
        "\n",
        "def collate_batch(batch):\n",
        "    token_ids_list, labels = zip(*batch)\n",
        "    token_ids_padded = pad_sequence(token_ids_list, batch_first=True, padding_value=pad_idx)\n",
        "    labels_tensor = torch.tensor(labels, dtype=torch.long)\n",
        "    return token_ids_padded.to(device), labels_tensor.to(device)\n",
        "\n",
        "BATCH_SIZE = 16\n",
        "train_loader = DataLoader(train_dataset, batch_size=BATCH_SIZE, shuffle=True, collate_fn=collate_batch)\n",
        "val_loader = DataLoader(val_dataset, batch_size=BATCH_SIZE, shuffle=False, collate_fn=collate_batch)\n",
        "test_loader = DataLoader(test_dataset, batch_size=BATCH_SIZE, shuffle=False, collate_fn=collate_batch)\n",
        "\n",
        "print(f\"Train samples: {len(train_dataset)}\")\n",
        "print(f\"Validation samples: {len(val_dataset)}\")\n",
        "print(f\"Test samples: {len(test_dataset)}\")"
      ],
      "metadata": {
        "colab": {
          "base_uri": "https://localhost:8080/"
        },
        "id": "XLDq4_QOLBTs",
        "outputId": "1fa33ae5-6ee9-4abb-c672-4fe79542a506"
      },
      "execution_count": 13,
      "outputs": [
        {
          "output_type": "stream",
          "name": "stdout",
          "text": [
            "Train samples: 20000\n",
            "Validation samples: 5000\n",
            "Test samples: 25000\n"
          ]
        }
      ]
    },
    {
      "cell_type": "code",
      "source": [
        "# transformer encoder model\n",
        "class TransformerClassifier(nn.Module):\n",
        "    def __init__(self, vocab_size, embed_dim=128, nhead=8, hidden_dim=256, num_layers=2, dropout=0.2, max_len=5000):\n",
        "        super().__init__()\n",
        "        self.embedding = nn.Embedding(vocab_size, embed_dim, padding_idx=pad_idx)\n",
        "        self.pos_encoder = nn.Parameter(torch.randn(1, max_len, embed_dim))\n",
        "        encoder_layer = nn.TransformerEncoderLayer(embed_dim, nhead, hidden_dim, dropout)\n",
        "        self.transformer = nn.TransformerEncoder(encoder_layer, num_layers)\n",
        "        self.fc = nn.Linear(embed_dim, 2)\n",
        "\n",
        "    def forward(self, x):\n",
        "        x = self.embedding(x) + self.pos_encoder[:, :x.size(1)]\n",
        "        x = x.transpose(0, 1)\n",
        "        x = self.transformer(x)\n",
        "        x = x.mean(dim=0)\n",
        "        return self.fc(x)\n",
        "\n",
        "transformer_model = TransformerClassifier(\n",
        "    len(vocab),\n",
        "    embed_dim=32,\n",
        "    nhead=4,\n",
        "    hidden_dim=128,\n",
        "    num_layers=1\n",
        ").to(device)"
      ],
      "metadata": {
        "id": "1XkUfSq0LFt3"
      },
      "execution_count": 14,
      "outputs": []
    },
    {
      "cell_type": "code",
      "source": [
        "# training and evaluation\n",
        "criterion = nn.CrossEntropyLoss()\n",
        "optimizer = optim.Adam(transformer_model.parameters(), lr=1e-3)\n",
        "\n",
        "history_transformer = {\n",
        "    'train_loss': [],\n",
        "    'val_loss': [],\n",
        "    'train_acc': [],\n",
        "    'val_acc': []\n",
        "}\n",
        "\n",
        "def evaluate_model(model, loader):\n",
        "    model.eval()\n",
        "    total_loss, correct, total = 0, 0, 0\n",
        "    with torch.no_grad():\n",
        "        for inputs, labels in loader:\n",
        "            outputs = model(inputs)\n",
        "            loss = criterion(outputs, labels)\n",
        "            total_loss += loss.item() * labels.size(0)\n",
        "            preds = outputs.argmax(1)\n",
        "            correct += (preds == labels).sum().item()\n",
        "            total += labels.size(0)\n",
        "    return total_loss / total, correct / total\n",
        "\n",
        "def train_model(model, train_loader, val_loader, num_epochs=10):\n",
        "    for epoch in range(1, num_epochs + 1):\n",
        "        model.train()\n",
        "        total_loss, correct, total = 0, 0, 0\n",
        "        for inputs, labels in train_loader:\n",
        "            optimizer.zero_grad()\n",
        "            outputs = model(inputs)\n",
        "            loss = criterion(outputs, labels)\n",
        "            loss.backward()\n",
        "            optimizer.step()\n",
        "\n",
        "            total_loss += loss.item() * labels.size(0)\n",
        "            preds = outputs.argmax(1)\n",
        "            correct += (preds == labels).sum().item()\n",
        "            total += labels.size(0)\n",
        "\n",
        "        train_acc = correct / total\n",
        "        val_loss, val_acc = evaluate_model(model, val_loader)\n",
        "        print(f\"Epoch {epoch}: Train Loss = {total_loss / total:.4f}, Acc = {train_acc:.4f}; \"\n",
        "              f\"Val Loss = {val_loss:.4f}, Acc = {val_acc:.4f}\")\n",
        "\n",
        "        history_transformer['train_loss'].append(total_loss / total)\n",
        "        history_transformer['val_loss'].append(val_loss)\n",
        "        history_transformer['train_acc'].append(train_acc)\n",
        "        history_transformer['val_acc'].append(val_acc)\n",
        "\n",
        "# run and test\n",
        "train_model(transformer_model, train_loader, val_loader, num_epochs=10)\n",
        "test_loss_transformer, test_acc_transformer = evaluate_model(transformer_model, test_loader)\n",
        "print(f\"Test Loss = {test_loss_transformer:.4f}, Test Acc = {test_acc_transformer:.4f}\")"
      ],
      "metadata": {
        "colab": {
          "base_uri": "https://localhost:8080/"
        },
        "id": "xiEmLEaWG8yW",
        "outputId": "ee6e1efb-c60e-4ccf-9d18-c7b13099d336"
      },
      "execution_count": 15,
      "outputs": [
        {
          "output_type": "stream",
          "name": "stdout",
          "text": [
            "Epoch 1: Train Loss = 0.5403, Acc = 0.7089; Val Loss = 0.4163, Acc = 0.8102\n",
            "Epoch 2: Train Loss = 0.3274, Acc = 0.8618; Val Loss = 0.3355, Acc = 0.8574\n",
            "Epoch 3: Train Loss = 0.2251, Acc = 0.9106; Val Loss = 0.3309, Acc = 0.8576\n",
            "Epoch 4: Train Loss = 0.1544, Acc = 0.9425; Val Loss = 0.3860, Acc = 0.8686\n",
            "Epoch 5: Train Loss = 0.1021, Acc = 0.9641; Val Loss = 0.4562, Acc = 0.8642\n",
            "Epoch 6: Train Loss = 0.0607, Acc = 0.9797; Val Loss = 0.5122, Acc = 0.8636\n",
            "Epoch 7: Train Loss = 0.0352, Acc = 0.9892; Val Loss = 0.7341, Acc = 0.8562\n",
            "Epoch 8: Train Loss = 0.0219, Acc = 0.9932; Val Loss = 0.8388, Acc = 0.8604\n",
            "Epoch 9: Train Loss = 0.0145, Acc = 0.9950; Val Loss = 0.9716, Acc = 0.8534\n",
            "Epoch 10: Train Loss = 0.0093, Acc = 0.9972; Val Loss = 1.0760, Acc = 0.8536\n",
            "Test Loss = 1.3208, Test Acc = 0.8314\n"
          ]
        }
      ]
    },
    {
      "cell_type": "markdown",
      "source": [
        "# Plots and comparison"
      ],
      "metadata": {
        "id": "x_uUFMQ2Qlss"
      }
    },
    {
      "cell_type": "code",
      "source": [
        "# plot training and validation curves for both models\n",
        "import matplotlib.pyplot as plt\n",
        "\n",
        "def plot_curves(history, label):\n",
        "    plt.figure(figsize=(14, 5))\n",
        "\n",
        "    # loss\n",
        "    plt.subplot(1, 2, 1)\n",
        "    plt.plot(history['train_loss'], label=f'{label} Train Loss')\n",
        "    plt.plot(history['val_loss'], label=f'{label} Val Loss')\n",
        "    plt.title('Loss over Epochs')\n",
        "    plt.xlabel('Epochs')\n",
        "    plt.ylabel('Loss')\n",
        "    plt.legend()\n",
        "\n",
        "    # accuracy\n",
        "    plt.subplot(1, 2, 2)\n",
        "    plt.plot(history['train_acc'], label=f'{label} Train Acc')\n",
        "    plt.plot(history['val_acc'], label=f'{label} Val Acc')\n",
        "    plt.title('Accuracy over Epochs')\n",
        "    plt.xlabel('Epochs')\n",
        "    plt.ylabel('Accuracy')\n",
        "    plt.legend()\n",
        "\n",
        "    plt.show()\n",
        "\n",
        "plot_curves(history_lstm, \"LSTM\")\n",
        "plot_curves(history_transformer, \"Transformer\")"
      ],
      "metadata": {
        "colab": {
          "base_uri": "https://localhost:8080/",
          "height": 957
        },
        "id": "fwbMpbAwQ4V_",
        "outputId": "438b1cd4-e221-4a3b-a146-b08c642746f9"
      },
      "execution_count": 16,
      "outputs": [
        {
          "output_type": "display_data",
          "data": {
            "text/plain": [
              "<Figure size 1400x500 with 2 Axes>"
            ],
            "image/png": "[encoded data removed]"
          },
          "metadata": {}
        },
        {
          "output_type": "display_data",
          "data": {
            "text/plain": [
              "<Figure size 1400x500 with 2 Axes>"
            ],
            "image/png": "[encoded data removed]"
          },
          "metadata": {}
        }
      ]
    },
    {
      "cell_type": "code",
      "source": [
        "import pandas as pd"
      ],
      "metadata": {
        "id": "2JqwaXY6S8YT"
      },
      "execution_count": 17,
      "outputs": []
    },
    {
      "cell_type": "code",
      "source": [
        "comparison_df = pd.DataFrame({\n",
        "    'Model': ['LSTM', 'Transformer'],\n",
        "    'Test Accuracy': [test_acc_lstm, test_acc_transformer],\n",
        "    'Train Accuracy (last epoch)': [history_lstm['train_acc'][-1], history_transformer['train_acc'][-1]],\n",
        "    'Validation Accuracy (last epoch)': [history_lstm['val_acc'][-1], history_transformer['val_acc'][-1]]\n",
        "})\n",
        "\n",
        "print(\"\\nModel Performance Comparison:\\n\")\n",
        "display(comparison_df)"
      ],
      "metadata": {
        "colab": {
          "base_uri": "https://localhost:8080/",
          "height": 164
        },
        "id": "6JIv_pljS6q8",
        "outputId": "b8795f1e-c338-40f9-c40a-cf57423a3230"
      },
      "execution_count": 18,
      "outputs": [
        {
          "output_type": "stream",
          "name": "stdout",
          "text": [
            "\n",
            "Model Performance Comparison:\n",
            "\n"
          ]
        },
        {
          "output_type": "display_data",
          "data": {
            "text/plain": [
              "         Model  Test Accuracy  Train Accuracy (last epoch)  \\\n",
              "0         LSTM        0.89012                      0.97955   \n",
              "1  Transformer        0.83144                      0.99725   \n",
              "\n",
              "   Validation Accuracy (last epoch)  \n",
              "0                            0.8994  \n",
              "1                            0.8536  "
            ],
            "text/html": [
              "\n",
              "  <div id=\"df-d685de2d-314e-49b5-a835-ff00160e4aca\" class=\"colab-df-container\">\n",
              "    <div>\n",
              "<style scoped>\n",
              "    .dataframe tbody tr th:only-of-type {\n",
              "        vertical-align: middle;\n",
              "    }\n",
              "\n",
              "    .dataframe tbody tr th {\n",
              "        vertical-align: top;\n",
              "    }\n",
              "\n",
              "    .dataframe thead th {\n",
              "        text-align: right;\n",
              "    }\n",
              "</style>\n",
              "<table border=\"1\" class=\"dataframe\">\n",
              "  <thead>\n",
              "    <tr style=\"text-align: right;\">\n",
              "      <th></th>\n",
              "      <th>Model</th>\n",
              "      <th>Test Accuracy</th>\n",
              "      <th>Train Accuracy (last epoch)</th>\n",
              "      <th>Validation Accuracy (last epoch)</th>\n",
              "    </tr>\n",
              "  </thead>\n",
              "  <tbody>\n",
              "    <tr>\n",
              "      <th>0</th>\n",
              "      <td>LSTM</td>\n",
              "      <td>0.89012</td>\n",
              "      <td>0.97955</td>\n",
              "      <td>0.8994</td>\n",
              "    </tr>\n",
              "    <tr>\n",
              "      <th>1</th>\n",
              "      <td>Transformer</td>\n",
              "      <td>0.83144</td>\n",
              "      <td>0.99725</td>\n",
              "      <td>0.8536</td>\n",
              "    </tr>\n",
              "  </tbody>\n",
              "</table>\n",
              "</div>\n",
              "    <div class=\"colab-df-buttons\">\n",
              "\n",
              "  <div class=\"colab-df-container\">\n",
              "    <button class=\"colab-df-convert\" onclick=\"convertToInteractive('df-d685de2d-314e-49b5-a835-ff00160e4aca')\"\n",
              "            title=\"Convert this dataframe to an interactive table.\"\n",
              "            style=\"display:none;\">\n",
              "\n",
              "  <svg xmlns=\"http://www.w3.org/2000/svg\" height=\"24px\" viewBox=\"0 -960 960 960\">\n",
              "    <path d=\"M120-120v-720h720v720H120Zm60-500h600v-160H180v160Zm220 220h160v-160H400v160Zm0 220h160v-160H400v160ZM180-400h160v-160H180v160Zm440 0h160v-160H620v160ZM180-180h160v-160H180v160Zm440 0h160v-160H620v160Z\"/>\n",
              "  </svg>\n",
              "    </button>\n",
              "\n",
              "  <style>\n",
              "    .colab-df-container {\n",
              "      display:flex;\n",
              "      gap: 12px;\n",
              "    }\n",
              "\n",
              "    .colab-df-convert {\n",
              "      background-color: #E8F0FE;\n",
              "      border: none;\n",
              "      border-radius: 50%;\n",
              "      cursor: pointer;\n",
              "      display: none;\n",
              "      fill: #1967D2;\n",
              "      height: 32px;\n",
              "      padding: 0 0 0 0;\n",
              "      width: 32px;\n",
              "    }\n",
              "\n",
              "    .colab-df-convert:hover {\n",
              "      background-color: #E2EBFA;\n",
              "      box-shadow: 0px 1px 2px rgba(60, 64, 67, 0.3), 0px 1px 3px 1px rgba(60, 64, 67, 0.15);\n",
              "      fill: #174EA6;\n",
              "    }\n",
              "\n",
              "    .colab-df-buttons div {\n",
              "      margin-bottom: 4px;\n",
              "    }\n",
              "\n",
              "    [theme=dark] .colab-df-convert {\n",
              "      background-color: #3B4455;\n",
              "      fill: #D2E3FC;\n",
              "    }\n",
              "\n",
              "    [theme=dark] .colab-df-convert:hover {\n",
              "      background-color: #434B5C;\n",
              "      box-shadow: 0px 1px 3px 1px rgba(0, 0, 0, 0.15);\n",
              "      filter: drop-shadow(0px 1px 2px rgba(0, 0, 0, 0.3));\n",
              "      fill: #FFFFFF;\n",
              "    }\n",
              "  </style>\n",
              "\n",
              "    <script>\n",
              "      const buttonEl =\n",
              "        document.querySelector('#df-d685de2d-314e-49b5-a835-ff00160e4aca button.colab-df-convert');\n",
              "      buttonEl.style.display =\n",
              "        google.colab.kernel.accessAllowed ? 'block' : 'none';\n",
              "\n",
              "      async function convertToInteractive(key) {\n",
              "        const element = document.querySelector('#df-d685de2d-314e-49b5-a835-ff00160e4aca');\n",
              "        const dataTable =\n",
              "          await google.colab.kernel.invokeFunction('convertToInteractive',\n",
              "                                                    [key], {});\n",
              "        if (!dataTable) return;\n",
              "\n",
              "        const docLinkHtml = 'Like what you see? Visit the ' +\n",
              "          '<a target=\"_blank\" href=https://colab.research.google.com/notebooks/data_table.ipynb>data table notebook</a>'\n",
              "          + ' to learn more about interactive tables.';\n",
              "        element.innerHTML = '';\n",
              "        dataTable['output_type'] = 'display_data';\n",
              "        await google.colab.output.renderOutput(dataTable, element);\n",
              "        const docLink = document.createElement('div');\n",
              "        docLink.innerHTML = docLinkHtml;\n",
              "        element.appendChild(docLink);\n",
              "      }\n",
              "    </script>\n",
              "  </div>\n",
              "\n",
              "\n",
              "    <div id=\"df-30b64fd4-564b-4200-9116-06df0304ac1c\">\n",
              "      <button class=\"colab-df-quickchart\" onclick=\"quickchart('df-30b64fd4-564b-4200-9116-06df0304ac1c')\"\n",
              "                title=\"Suggest charts\"\n",
              "                style=\"display:none;\">\n",
              "\n",
              "<svg xmlns=\"http://www.w3.org/2000/svg\" height=\"24px\"viewBox=\"0 0 24 24\"\n",
              "     width=\"24px\">\n",
              "    <g>\n",
              "        <path d=\"M19 3H5c-1.1 0-2 .9-2 2v14c0 1.1.9 2 2 2h14c1.1 0 2-.9 2-2V5c0-1.1-.9-2-2-2zM9 17H7v-7h2v7zm4 0h-2V7h2v10zm4 0h-2v-4h2v4z\"/>\n",
              "    </g>\n",
              "</svg>\n",
              "      </button>\n",
              "\n",
              "<style>\n",
              "  .colab-df-quickchart {\n",
              "      --bg-color: #E8F0FE;\n",
              "      --fill-color: #1967D2;\n",
              "      --hover-bg-color: #E2EBFA;\n",
              "      --hover-fill-color: #174EA6;\n",
              "      --disabled-fill-color: #AAA;\n",
              "      --disabled-bg-color: #DDD;\n",
              "  }\n",
              "\n",
              "  [theme=dark] .colab-df-quickchart {\n",
              "      --bg-color: #3B4455;\n",
              "      --fill-color: #D2E3FC;\n",
              "      --hover-bg-color: #434B5C;\n",
              "      --hover-fill-color: #FFFFFF;\n",
              "      --disabled-bg-color: #3B4455;\n",
              "      --disabled-fill-color: #666;\n",
              "  }\n",
              "\n",
              "  .colab-df-quickchart {\n",
              "    background-color: var(--bg-color);\n",
              "    border: none;\n",
              "    border-radius: 50%;\n",
              "    cursor: pointer;\n",
              "    display: none;\n",
              "    fill: var(--fill-color);\n",
              "    height: 32px;\n",
              "    padding: 0;\n",
              "    width: 32px;\n",
              "  }\n",
              "\n",
              "  .colab-df-quickchart:hover {\n",
              "    background-color: var(--hover-bg-color);\n",
              "    box-shadow: 0 1px 2px rgba(60, 64, 67, 0.3), 0 1px 3px 1px rgba(60, 64, 67, 0.15);\n",
              "    fill: var(--button-hover-fill-color);\n",
              "  }\n",
              "\n",
              "  .colab-df-quickchart-complete:disabled,\n",
              "  .colab-df-quickchart-complete:disabled:hover {\n",
              "    background-color: var(--disabled-bg-color);\n",
              "    fill: var(--disabled-fill-color);\n",
              "    box-shadow: none;\n",
              "  }\n",
              "\n",
              "  .colab-df-spinner {\n",
              "    border: 2px solid var(--fill-color);\n",
              "    border-color: transparent;\n",
              "    border-bottom-color: var(--fill-color);\n",
              "    animation:\n",
              "      spin 1s steps(1) infinite;\n",
              "  }\n",
              "\n",
              "  @keyframes spin {\n",
              "    0% {\n",
              "      border-color: transparent;\n",
              "      border-bottom-color: var(--fill-color);\n",
              "      border-left-color: var(--fill-color);\n",
              "    }\n",
              "    20% {\n",
              "      border-color: transparent;\n",
              "      border-left-color: var(--fill-color);\n",
              "      border-top-color: var(--fill-color);\n",
              "    }\n",
              "    30% {\n",
              "      border-color: transparent;\n",
              "      border-left-color: var(--fill-color);\n",
              "      border-top-color: var(--fill-color);\n",
              "      border-right-color: var(--fill-color);\n",
              "    }\n",
              "    40% {\n",
              "      border-color: transparent;\n",
              "      border-right-color: var(--fill-color);\n",
              "      border-top-color: var(--fill-color);\n",
              "    }\n",
              "    60% {\n",
              "      border-color: transparent;\n",
              "      border-right-color: var(--fill-color);\n",
              "    }\n",
              "    80% {\n",
              "      border-color: transparent;\n",
              "      border-right-color: var(--fill-color);\n",
              "      border-bottom-color: var(--fill-color);\n",
              "    }\n",
              "    90% {\n",
              "      border-color: transparent;\n",
              "      border-bottom-color: var(--fill-color);\n",
              "    }\n",
              "  }\n",
              "</style>\n",
              "\n",
              "      <script>\n",
              "        async function quickchart(key) {\n",
              "          const quickchartButtonEl =\n",
              "            document.querySelector('#' + key + ' button');\n",
              "          quickchartButtonEl.disabled = true;  // To prevent multiple clicks.\n",
              "          quickchartButtonEl.classList.add('colab-df-spinner');\n",
              "          try {\n",
              "            const charts = await google.colab.kernel.invokeFunction(\n",
              "                'suggestCharts', [key], {});\n",
              "          } catch (error) {\n",
              "            console.error('Error during call to suggestCharts:', error);\n",
              "          }\n",
              "          quickchartButtonEl.classList.remove('colab-df-spinner');\n",
              "          quickchartButtonEl.classList.add('colab-df-quickchart-complete');\n",
              "        }\n",
              "        (() => {\n",
              "          let quickchartButtonEl =\n",
              "            document.querySelector('#df-30b64fd4-564b-4200-9116-06df0304ac1c button');\n",
              "          quickchartButtonEl.style.display =\n",
              "            google.colab.kernel.accessAllowed ? 'block' : 'none';\n",
              "        })();\n",
              "      </script>\n",
              "    </div>\n",
              "    </div>\n",
              "  </div>\n"
            ],
            "application/vnd.google.colaboratory.intrinsic+json": {
              "type": "dataframe",
              "variable_name": "comparison_df",
              "summary": "{\n  \"name\": \"comparison_df\",\n  \"rows\": 2,\n  \"fields\": [\n    {\n      \"column\": \"Model\",\n      \"properties\": {\n        \"dtype\": \"string\",\n        \"num_unique_values\": 2,\n        \"samples\": [\n          \"Transformer\",\n          \"LSTM\"\n        ],\n        \"semantic_type\": \"\",\n        \"description\": \"\"\n      }\n    },\n    {\n      \"column\": \"Test Accuracy\",\n      \"properties\": {\n        \"dtype\": \"number\",\n        \"std\": 0.04149302590653964,\n        \"min\": 0.83144,\n        \"max\": 0.8901199999809265,\n        \"num_unique_values\": 2,\n        \"samples\": [\n          0.83144,\n          0.8901199999809265\n        ],\n        \"semantic_type\": \"\",\n        \"description\": \"\"\n      }\n    },\n    {\n      \"column\": \"Train Accuracy (last epoch)\",\n      \"properties\": {\n        \"dtype\": \"number\",\n        \"std\": 0.012515790027001846,\n        \"min\": 0.97955,\n        \"max\": 0.99725,\n        \"num_unique_values\": 2,\n        \"samples\": [\n          0.99725,\n          0.97955\n        ],\n        \"semantic_type\": \"\",\n        \"description\": \"\"\n      }\n    },\n    {\n      \"column\": \"Validation Accuracy (last epoch)\",\n      \"properties\": {\n        \"dtype\": \"number\",\n        \"std\": 0.03238549057834384,\n        \"min\": 0.8536,\n        \"max\": 0.8994,\n        \"num_unique_values\": 2,\n        \"samples\": [\n          0.8536,\n          0.8994\n        ],\n        \"semantic_type\": \"\",\n        \"description\": \"\"\n      }\n    }\n  ]\n}"
            }
          },
          "metadata": {}
        }
      ]
    }
  ]
}